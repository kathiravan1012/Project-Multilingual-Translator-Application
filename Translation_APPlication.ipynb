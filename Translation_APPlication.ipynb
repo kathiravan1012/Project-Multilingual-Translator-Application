{
  "nbformat": 4,
  "nbformat_minor": 0,
  "metadata": {
    "colab": {
      "provenance": []
    },
    "kernelspec": {
      "name": "python3",
      "display_name": "Python 3"
    },
    "language_info": {
      "name": "python"
    }
  },
  "cells": [
    {
      "cell_type": "code",
      "execution_count": 4,
      "metadata": {
        "colab": {
          "base_uri": "https://localhost:8080/",
          "height": 593
        },
        "id": "Js_Wn6y_pJzL",
        "outputId": "0fcc2af4-50d4-4a03-9596-7f3ef5c518f1"
      },
      "outputs": [
        {
          "output_type": "stream",
          "name": "stdout",
          "text": [
            "Colab notebook detected. To show errors in colab notebook, set debug=True in launch()\n",
            "Running on public URL: https://45aa21a271e8cfdac8.gradio.live\n",
            "\n",
            "This share link expires in 72 hours. For free permanent hosting and GPU upgrades, run `gradio deploy` from Terminal to deploy to Spaces (https://huggingface.co/spaces)\n"
          ]
        },
        {
          "output_type": "display_data",
          "data": {
            "text/plain": [
              "<IPython.core.display.HTML object>"
            ],
            "text/html": [
              "<div><iframe src=\"https://45aa21a271e8cfdac8.gradio.live\" width=\"100%\" height=\"500\" allow=\"autoplay; camera; microphone; clipboard-read; clipboard-write;\" frameborder=\"0\" allowfullscreen></iframe></div>"
            ]
          },
          "metadata": {}
        },
        {
          "output_type": "execute_result",
          "data": {
            "text/plain": []
          },
          "metadata": {},
          "execution_count": 4
        }
      ],
      "source": [
        "\n",
        "\n",
        "from transformers import M2M100ForConditionalGeneration, M2M100Tokenizer\n",
        "import gradio as gr\n",
        "\n",
        "\n",
        "model_name = \"facebook/m2m100_418M\"\n",
        "\n",
        "tokenizer = M2M100Tokenizer.from_pretrained(model_name)\n",
        "model = M2M100ForConditionalGeneration.from_pretrained(model_name)\n",
        "\n",
        "\n",
        "language_dict = {\n",
        "    \"English\": \"en\",\n",
        "    \"French\": \"fr\",\n",
        "    \"Spanish\": \"es\",\n",
        "    \"Italian\": \"it\",\n",
        "    \"German\": \"de\",\n",
        "    \"Portuguese\": \"pt\",\n",
        "    \"Russian\": \"ru\",\n",
        "    \"Chinese\": \"zh\",\n",
        "    \"Gujarati\": \"gu\",\n",
        "    \"Marathi\": \"mr\",\n",
        "    \"Kannada\": \"kn\",\n",
        "    \"Malayalam\": \"ml\",\n",
        "    \"Tamil\": \"ta\"\n",
        "}\n",
        "\n",
        "languages = list(language_dict.keys())\n",
        "\n",
        "def translate(text, input_language, target_language):\n",
        "    input_lang_code = language_dict.get(input_language)\n",
        "    target_lang_code = language_dict.get(target_language)\n",
        "\n",
        "    if input_lang_code is None or target_lang_code is None:\n",
        "        return f\"Translation for {input_language} to {target_language} is not supported.\"\n",
        "\n",
        "    tokenizer.src_lang = input_lang_code\n",
        "\n",
        "    encoded_text = tokenizer(text, return_tensors=\"pt\")\n",
        "    generated_tokens = model.generate(**encoded_text, forced_bos_token_id=tokenizer.lang_code_to_id[target_lang_code])\n",
        "    translated_text = tokenizer.batch_decode(generated_tokens, skip_special_tokens=True)[0]\n",
        "\n",
        "    return translated_text\n",
        "\n",
        "def translate_text(text, input_language, target_language):\n",
        "    print(\"Received Input Language:\", input_language)\n",
        "    print(\"Received Target Language:\", target_language)\n",
        "    return translate(text, input_language, target_language)\n",
        "\n",
        "iface = gr.Interface(\n",
        "    fn=translate_text,\n",
        "    inputs=[\n",
        "        gr.Textbox(lines=2, placeholder=\"Enter text here...\"),\n",
        "        gr.Dropdown(languages, label=\"Input Language\"),\n",
        "        gr.Dropdown(languages, label=\"Target Language\")\n",
        "    ],\n",
        "    outputs=\"text\",\n",
        "    title=\"Multilingual Translator\",\n",
        "\n",
        ")\n",
        "iface.launch(share=True)\n"
      ]
    }
  ]
}